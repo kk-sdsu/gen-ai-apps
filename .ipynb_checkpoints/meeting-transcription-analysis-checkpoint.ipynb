{
 "cells": [
  {
   "cell_type": "markdown",
   "id": "9247fad3-3f20-4fde-a8b3-1d567a7681bb",
   "metadata": {},
   "source": [
    "# Meeting Transcription Analysis\n",
    "\n",
    "This notebook uses generative AI (GenAI) in the form of Large Language Models (LLMs) to analyze zoom meeting transcriptions.\n",
    "\n",
    "Analysis includes:\n",
    "- Main topics of discussion\n",
    "- Jargon used\n",
    "- Action items\n",
    "\n",
    "This notebook uses the [OpenAI REST API](https://platform.openai.com/docs/api-reference/introduction) to interact with LLMs hosted in a [FastChat](https://github.com/lm-sys/FastChat) deployment at [sdsu-rci-fastchat.nrp-nautilus.io](sdsu-rci-fastchat.nrp-nautilus.io)"
   ]
  },
  {
   "cell_type": "code",
   "execution_count": null,
   "id": "9e7f8051-41f7-4249-8ac8-bdf1723fd889",
   "metadata": {},
   "outputs": [],
   "source": []
  }
 ],
 "metadata": {
  "kernelspec": {
   "display_name": "Python 3 (ipykernel)",
   "language": "python",
   "name": "python3"
  },
  "language_info": {
   "codemirror_mode": {
    "name": "ipython",
    "version": 3
   },
   "file_extension": ".py",
   "mimetype": "text/x-python",
   "name": "python",
   "nbconvert_exporter": "python",
   "pygments_lexer": "ipython3",
   "version": "3.10.12"
  }
 },
 "nbformat": 4,
 "nbformat_minor": 5
}
